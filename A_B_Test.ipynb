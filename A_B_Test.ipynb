{
  "nbformat": 4,
  "nbformat_minor": 0,
  "metadata": {
    "colab": {
      "provenance": [],
      "mount_file_id": "1l5METMpYqIyvxA_CSoHyXCg1zMYmRuzu",
      "authorship_tag": "ABX9TyN9YbN24dw4FzDGA08Pi1zW",
      "include_colab_link": true
    },
    "kernelspec": {
      "name": "python3",
      "display_name": "Python 3"
    },
    "language_info": {
      "name": "python"
    }
  },
  "cells": [
    {
      "cell_type": "markdown",
      "metadata": {
        "id": "view-in-github",
        "colab_type": "text"
      },
      "source": [
        "<a href=\"https://colab.research.google.com/github/chmawnt/Complete-Feature-Selection/blob/master/A_B_Test.ipynb\" target=\"_parent\"><img src=\"https://colab.research.google.com/assets/colab-badge.svg\" alt=\"Open In Colab\"/></a>"
      ]
    },
    {
      "cell_type": "code",
      "source": [
        "from google.colab import drive\n",
        "drive.mount('/content/drive')"
      ],
      "metadata": {
        "colab": {
          "base_uri": "https://localhost:8080/"
        },
        "id": "8wt-iwq4WcDD",
        "outputId": "4c1ac3f8-ff65-4e16-e49c-381590593fea"
      },
      "execution_count": 9,
      "outputs": [
        {
          "output_type": "stream",
          "name": "stdout",
          "text": [
            "Drive already mounted at /content/drive; to attempt to forcibly remount, call drive.mount(\"/content/drive\", force_remount=True).\n"
          ]
        }
      ]
    },
    {
      "cell_type": "code",
      "execution_count": 7,
      "metadata": {
        "id": "cWjvf2liETQ1"
      },
      "outputs": [],
      "source": [
        "import pandas as pd\n",
        "import datetime\n",
        "from datetime import date, timedelta\n",
        "import plotly.graph_objects as go\n",
        "import plotly.express as px\n",
        "import plotly.io as pio\n",
        "pio.templates.default = \"plotly_white\"\n"
      ]
    },
    {
      "cell_type": "code",
      "source": [
        "control_data = pd.read_csv(\"/content/drive/MyDrive/control_group.csv\", sep = \";\")\n",
        "test_data = pd.read_csv(\"/content/drive/MyDrive/test_group.csv\", sep = \";\")"
      ],
      "metadata": {
        "id": "bWe9B40wVp_R"
      },
      "execution_count": 8,
      "outputs": []
    },
    {
      "cell_type": "code",
      "source": [
        "print(control_data.head())"
      ],
      "metadata": {
        "id": "OjUKcsk3YzUr"
      },
      "execution_count": null,
      "outputs": []
    },
    {
      "cell_type": "code",
      "source": [
        "print(test_data.head())"
      ],
      "metadata": {
        "colab": {
          "base_uri": "https://localhost:8080/"
        },
        "id": "WCOikhH7YT3z",
        "outputId": "72d2d5cf-ea89-4348-ac76-5b8ab637c8ff"
      },
      "execution_count": 11,
      "outputs": [
        {
          "output_type": "stream",
          "name": "stdout",
          "text": [
            "   Campaign Name       Date  Spend [USD]  # of Impressions  Reach  \\\n",
            "0  Test Campaign  1.08.2019         3008             39550  35820   \n",
            "1  Test Campaign  2.08.2019         2542            100719  91236   \n",
            "2  Test Campaign  3.08.2019         2365             70263  45198   \n",
            "3  Test Campaign  4.08.2019         2710             78451  25937   \n",
            "4  Test Campaign  5.08.2019         2297            114295  95138   \n",
            "\n",
            "   # of Website Clicks  # of Searches  # of View Content  # of Add to Cart  \\\n",
            "0                 3038           1946               1069               894   \n",
            "1                 4657           2359               1548               879   \n",
            "2                 7885           2572               2367              1268   \n",
            "3                 4216           2216               1437               566   \n",
            "4                 5863           2106                858               956   \n",
            "\n",
            "   # of Purchase  \n",
            "0            255  \n",
            "1            677  \n",
            "2            578  \n",
            "3            340  \n",
            "4            768  \n"
          ]
        }
      ]
    },
    {
      "cell_type": "code",
      "source": [
        "control_data.columns = [\"Campaign Name\", \"Date\", \"Amount Spent\", \n",
        "                        \"Number of Impressions\", \"Reach\", \"Website Clicks\", \n",
        "                        \"Searches Received\", \"Content Viewed\", \"Added to Cart\",\n",
        "                        \"Purchases\"]\n",
        "\n",
        "test_data.columns = [\"Campaign Name\", \"Date\", \"Amount Spent\", \n",
        "                        \"Number of Impressions\", \"Reach\", \"Website Clicks\", \n",
        "                        \"Searches Received\", \"Content Viewed\", \"Added to Cart\",\n",
        "                        \"Purchases\"]"
      ],
      "metadata": {
        "id": "5oWzL1f0ZT54"
      },
      "execution_count": 12,
      "outputs": []
    },
    {
      "cell_type": "code",
      "source": [
        "print(control_data.isnull().sum());"
      ],
      "metadata": {
        "colab": {
          "base_uri": "https://localhost:8080/"
        },
        "id": "GXO6vNjKZkx2",
        "outputId": "f0294e46-b08b-43a5-f450-ca5201448a06"
      },
      "execution_count": 15,
      "outputs": [
        {
          "output_type": "stream",
          "name": "stdout",
          "text": [
            "Campaign Name            0\n",
            "Date                     0\n",
            "Amount Spent             0\n",
            "Number of Impressions    1\n",
            "Reach                    1\n",
            "Website Clicks           1\n",
            "Searches Received        1\n",
            "Content Viewed           1\n",
            "Added to Cart            1\n",
            "Purchases                1\n",
            "dtype: int64\n"
          ]
        }
      ]
    },
    {
      "cell_type": "code",
      "source": [
        "control_data[\"Number of Impressions\"].fillna(value=control_data[\"Number of Impressions\"].mean(), inplace=True)\n",
        "control_data[\"Reach\"].fillna(value=control_data[\"Reach\"].mean(), inplace=True)\n",
        "control_data[\"Website Clicks\"].fillna(value=control_data[\"Website Clicks\"].mean(), inplace=True)\n",
        "control_data[\"Searches Received\"].fillna( value=control_data[\"Searches Received\"].mean(), inplace=True)\n",
        "control_data[\"Content Viewed\"].fillna(value=control_data[\"Content Viewed\"].mean(), inplace=True)\n",
        "control_data[\"Added to Cart\"].fillna(value=control_data[\"Added to Cart\"].mean(), inplace=True)\n",
        "control_data[\"Purchases\"].fillna(value=control_data[\"Purchases\"].mean(),inplace=True)\n",
        "\n",
        "ab_data = control_data.merge(test_data,how=\"outer\").sort_values([\"Date\"])\n",
        "\n",
        "ab_data = ab_data.reset_index(drop=True)\n",
        "print(ab_data.head())\n"
      ],
      "metadata": {
        "colab": {
          "base_uri": "https://localhost:8080/"
        },
        "id": "AcszSdCUbyPG",
        "outputId": "a963b2c0-1875-4e3b-9e6a-8c9c485cdefe"
      },
      "execution_count": 24,
      "outputs": [
        {
          "output_type": "stream",
          "name": "stdout",
          "text": [
            "      Campaign Name        Date  Amount Spent  Number of Impressions    Reach  \\\n",
            "0  Control Campaign   1.08.2019          2280                82702.0  56930.0   \n",
            "1     Test Campaign   1.08.2019          3008                39550.0  35820.0   \n",
            "2     Test Campaign  10.08.2019          2790                95054.0  79632.0   \n",
            "3  Control Campaign  10.08.2019          2149               117624.0  91257.0   \n",
            "4     Test Campaign  11.08.2019          2420                83633.0  71286.0   \n",
            "\n",
            "   Website Clicks  Searches Received  Content Viewed  Added to Cart  Purchases  \n",
            "0          7016.0             2290.0          2159.0         1819.0      618.0  \n",
            "1          3038.0             1946.0          1069.0          894.0      255.0  \n",
            "2          8125.0             2312.0          1804.0          424.0      275.0  \n",
            "3          2277.0             2475.0          1984.0         1629.0      734.0  \n",
            "4          3750.0             2893.0          2617.0         1075.0      668.0  \n"
          ]
        },
        {
          "output_type": "stream",
          "name": "stderr",
          "text": [
            "/usr/local/lib/python3.8/dist-packages/pandas/core/reshape/merge.py:1204: UserWarning: You are merging on int and float columns where the float values are not equal to their int representation\n",
            "  warnings.warn(\n"
          ]
        }
      ]
    },
    {
      "cell_type": "code",
      "source": [
        "print(ab_data[\"Campaign Name\"].value_counts())"
      ],
      "metadata": {
        "colab": {
          "base_uri": "https://localhost:8080/"
        },
        "id": "-EQQNXoInzLj",
        "outputId": "ddd713f3-9ec2-4dbc-cd14-911e58c90984"
      },
      "execution_count": 26,
      "outputs": [
        {
          "output_type": "stream",
          "name": "stdout",
          "text": [
            "Control Campaign    30\n",
            "Test Campaign       30\n",
            "Name: Campaign Name, dtype: int64\n"
          ]
        }
      ]
    },
    {
      "cell_type": "code",
      "source": [],
      "metadata": {
        "id": "kJHRIfATnzGi"
      },
      "execution_count": null,
      "outputs": []
    },
    {
      "cell_type": "code",
      "source": [],
      "metadata": {
        "id": "02VM1IUXnyd1"
      },
      "execution_count": null,
      "outputs": []
    },
    {
      "cell_type": "markdown",
      "source": [],
      "metadata": {
        "id": "LkGbUMGGY6Ls"
      }
    },
    {
      "cell_type": "code",
      "source": [],
      "metadata": {
        "colab": {
          "base_uri": "https://localhost:8080/",
          "height": 165
        },
        "id": "o40JpVhmmq7q",
        "outputId": "d73ec59f-4162-4a62-a5b2-c40f54ae505b"
      },
      "execution_count": 22,
      "outputs": [
        {
          "output_type": "error",
          "ename": "NameError",
          "evalue": "ignored",
          "traceback": [
            "\u001b[0;31m---------------------------------------------------------------------------\u001b[0m",
            "\u001b[0;31mNameError\u001b[0m                                 Traceback (most recent call last)",
            "\u001b[0;32m<ipython-input-22-55fb845f4802>\u001b[0m in \u001b[0;36m<module>\u001b[0;34m\u001b[0m\n\u001b[0;32m----> 1\u001b[0;31m \u001b[0mab_data\u001b[0m \u001b[0;34m=\u001b[0m \u001b[0mcontrol_data\u001b[0m\u001b[0;34m.\u001b[0m\u001b[0mmerge\u001b[0m\u001b[0;34m(\u001b[0m\u001b[0mtestdata\u001b[0m\u001b[0;34m,\u001b[0m \u001b[0mhow\u001b[0m\u001b[0;34m=\u001b[0m\u001b[0;34m\"outer\"\u001b[0m\u001b[0;34m)\u001b[0m\u001b[0;34m.\u001b[0m\u001b[0msort_values\u001b[0m\u001b[0;34m(\u001b[0m\u001b[0;34m[\u001b[0m\u001b[0;34m\"Date\"\u001b[0m\u001b[0;34m]\u001b[0m\u001b[0;34m)\u001b[0m\u001b[0;34m\u001b[0m\u001b[0;34m\u001b[0m\u001b[0m\n\u001b[0m",
            "\u001b[0;31mNameError\u001b[0m: name 'testdata' is not defined"
          ]
        }
      ]
    }
  ]
}