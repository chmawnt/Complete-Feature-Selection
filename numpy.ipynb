{
  "nbformat": 4,
  "nbformat_minor": 0,
  "metadata": {
    "colab": {
      "name": "Untitled3.ipynb",
      "provenance": [],
      "authorship_tag": "ABX9TyPeRvFy10XgXIHsKkGnEgxD",
      "include_colab_link": true
    },
    "kernelspec": {
      "name": "python3",
      "display_name": "Python 3"
    },
    "language_info": {
      "name": "python"
    }
  },
  "cells": [
    {
      "cell_type": "markdown",
      "metadata": {
        "id": "view-in-github",
        "colab_type": "text"
      },
      "source": [
        "<a href=\"https://colab.research.google.com/github/chmawnt/Complete-Feature-Selection/blob/master/numpy.ipynb\" target=\"_parent\"><img src=\"https://colab.research.google.com/assets/colab-badge.svg\" alt=\"Open In Colab\"/></a>"
      ]
    },
    {
      "cell_type": "code",
      "metadata": {
        "colab": {
          "base_uri": "https://localhost:8080/"
        },
        "id": "4vI-DMNNS52q",
        "outputId": "9dbb0ed1-b389-4be0-e783-ec947847caef"
      },
      "source": [
        "import numpy as np\n",
        "#Create a null vector of size 10\n",
        "vector = np.zeros(10)\n",
        "print(vector)"
      ],
      "execution_count": 1,
      "outputs": [
        {
          "output_type": "stream",
          "name": "stdout",
          "text": [
            "[0. 0. 0. 0. 0. 0. 0. 0. 0. 0.]\n"
          ]
        }
      ]
    },
    {
      "cell_type": "markdown",
      "metadata": {
        "id": "oGqUq5QJTgXc"
      },
      "source": [
        "#Create a vector with values ranging from 10 to 49\n"
      ]
    },
    {
      "cell_type": "code",
      "metadata": {
        "colab": {
          "base_uri": "https://localhost:8080/"
        },
        "id": "5rs5sJq-TSMk",
        "outputId": "92443182-a1b6-4683-dd0a-d122afbb9370"
      },
      "source": [
        "v = np.arange(10,49)\n",
        "print(v)"
      ],
      "execution_count": 3,
      "outputs": [
        {
          "output_type": "stream",
          "name": "stdout",
          "text": [
            "[10 11 12 13 14 15 16 17 18 19 20 21 22 23 24 25 26 27 28 29 30 31 32 33\n",
            " 34 35 36 37 38 39 40 41 42 43 44 45 46 47 48]\n"
          ]
        }
      ]
    },
    {
      "cell_type": "markdown",
      "metadata": {
        "id": "hz5e6fhmT6eh"
      },
      "source": [
        "Find the shape of previous array in question 3"
      ]
    },
    {
      "cell_type": "code",
      "metadata": {
        "colab": {
          "base_uri": "https://localhost:8080/"
        },
        "id": "n3gPWFoAT_Sv",
        "outputId": "abed995b-081a-4260-a021-8d3e48273d98"
      },
      "source": [
        "arr = np.array([10,11, 12 ,13, 14 ,15, 16, 17, 18 ,19, 20, 21 ,22, 23, 24, 25, 26 ,27 ,28, 29 ,30 ,31, 32, 33,\n",
        " 34 ,35, 36, 37, 38, 39 ,40, 41, 42, 43, 44, 45 ,46, 47, 48])\n",
        "print(arr.shape)"
      ],
      "execution_count": 5,
      "outputs": [
        {
          "output_type": "stream",
          "name": "stdout",
          "text": [
            "(39,)\n"
          ]
        }
      ]
    },
    {
      "cell_type": "markdown",
      "metadata": {
        "id": "xvnBZtuQUjvg"
      },
      "source": [
        "Print the type of the previous array in question 3\n"
      ]
    },
    {
      "cell_type": "code",
      "metadata": {
        "colab": {
          "base_uri": "https://localhost:8080/"
        },
        "id": "RNHKnc9yUl6b",
        "outputId": "9eea3535-32d5-4d5d-dbad-64b507792265"
      },
      "source": [
        "arr.dtype"
      ],
      "execution_count": 7,
      "outputs": [
        {
          "output_type": "execute_result",
          "data": {
            "text/plain": [
              "dtype('int64')"
            ]
          },
          "metadata": {},
          "execution_count": 7
        }
      ]
    },
    {
      "cell_type": "markdown",
      "metadata": {
        "id": "CyJZ9YQmU9qw"
      },
      "source": [
        "Print the numpy version and the configuration"
      ]
    },
    {
      "cell_type": "code",
      "metadata": {
        "colab": {
          "base_uri": "https://localhost:8080/"
        },
        "id": "d2Ls8SyxU-uZ",
        "outputId": "d779eacf-7298-49cf-91ee-11af2de98910"
      },
      "source": [
        "print(np.__version__)\n",
        "print(np.show_config)"
      ],
      "execution_count": 9,
      "outputs": [
        {
          "output_type": "stream",
          "name": "stdout",
          "text": [
            "1.19.5\n",
            "<function show at 0x7ff413fa5ef0>\n"
          ]
        }
      ]
    },
    {
      "cell_type": "markdown",
      "metadata": {
        "id": "TRo1Y_RuVgH2"
      },
      "source": [
        "Print the dimension of the array in question 3\n",
        "Create a boolean array with all the True values"
      ]
    },
    {
      "cell_type": "code",
      "metadata": {
        "colab": {
          "base_uri": "https://localhost:8080/"
        },
        "id": "lte9d7FpVhKJ",
        "outputId": "c2d2516f-c973-4a7c-8052-ed216f223bc9"
      },
      "source": [
        "print(v.ndim)\n",
        "ans = np.full((2,2),True,dtype=bool)\n",
        "print(ans)"
      ],
      "execution_count": 12,
      "outputs": [
        {
          "output_type": "stream",
          "name": "stdout",
          "text": [
            "1\n",
            "[[ True  True]\n",
            " [ True  True]]\n"
          ]
        }
      ]
    },
    {
      "cell_type": "markdown",
      "metadata": {
        "id": "H2YJvtRQWgjf"
      },
      "source": [
        "Create a two dimensional array"
      ]
    },
    {
      "cell_type": "code",
      "metadata": {
        "colab": {
          "base_uri": "https://localhost:8080/"
        },
        "id": "InnLnYw4Wj7N",
        "outputId": "b157dae9-e6c6-4138-838b-7cadf28f67b5"
      },
      "source": [
        "x = np.array([[1,2,3,4],[5,6,7,8]])\n",
        "print(x.shape) "
      ],
      "execution_count": 14,
      "outputs": [
        {
          "output_type": "stream",
          "name": "stdout",
          "text": [
            "(2, 4)\n"
          ]
        }
      ]
    },
    {
      "cell_type": "code",
      "metadata": {
        "id": "oBPDlK8aTL_b"
      },
      "source": [
        "\n",
        "Difficulty Level Easy\n",
        "\n",
        "Reverse a vector (first element becomes last)\n",
        "In [ ]:\n",
        "\n",
        "Create a null vector of size 10 but the fifth value which is 1\n",
        "\n",
        "Create a 3x3 identity matrix\n",
        "In [ ]:\n",
        "\n",
        "arr = np.array([1, 2, 3, 4, 5])\n",
        "Convert the data type of the given array from int to float\n",
        "\n",
        "In [ ]:\n",
        "\n",
        "arr1 = np.array([[1., 2., 3.],\n",
        "\n",
        "            [4., 5., 6.]])  \n",
        "\n",
        "arr2 = np.array([[0., 4., 1.],\n",
        "\n",
        "           [7., 2., 12.]])\n",
        "Multiply arr1 with arr2\n",
        "\n",
        "arr1 = np.array([[1., 2., 3.],\n",
        "\n",
        "            [4., 5., 6.]]) \n",
        "\n",
        "arr2 = np.array([[0., 4., 1.],\n",
        "\n",
        "            [7., 2., 12.]])\n",
        "Make an array by comparing both the arrays provided above\n",
        "\n",
        "In [ ]:\n",
        "\n",
        "Extract all odd numbers from arr with values(0-9)\n",
        "In [ ]:\n",
        "\n",
        "Replace all odd numbers to -1 from previous array\n",
        "In [ ]:\n",
        "\n",
        "arr = np.arange(10)\n",
        "Replace the values of indexes 5,6,7 and 8 to 12\n",
        "\n",
        "Create a 2d array with 1 on the border and 0 inside\n",
        "In [ ]:\n",
        "\n",
        "Difficulty Level Medium\n",
        "\n",
        "arr2d = np.array([[1, 2, 3],\n",
        "\n",
        "            [4, 5, 6], \n",
        "\n",
        "            [7, 8, 9]])\n",
        "Replace the value 5 to 12\n",
        "\n",
        "In [ ]:\n",
        "\n",
        "arr3d = np.array([[[1, 2, 3], [4, 5, 6]], [[7, 8, 9], [10, 11, 12]]])\n",
        "Convert all the values of 1st array to 64\n",
        "\n",
        "In [ ]:\n",
        "\n",
        "Make a 2-Dimensional array with values 0-9 and slice out the first 1st 1-D array from it\n",
        "\n",
        "Make a 2-Dimensional array with values 0-9 and slice out the 2nd value from 2nd 1-D array from it\n",
        "In [ ]:\n",
        "\n",
        "Make a 2-Dimensional array with values 0-9 and slice out the third column but only the first two rows\n",
        "In [ ]:\n",
        "\n",
        "Create a 10x10 array with random values and find the minimum and maximum values\n",
        "In [ ]:\n",
        "\n",
        "27. a = np.array([1,2,3,2,3,4,3,4,5,6]) b = np.array([7,2,10,2,7,4,9,4,9,8])\n",
        "Find the common items between a and b\n",
        "\n",
        "In [ ]:\n",
        "\n",
        "a = np.array([1,2,3,2,3,4,3,4,5,6]) b = np.array([7,2,10,2,7,4,9,4,9,8])\n",
        "\n",
        "Find the positions where elements of a and b match\n",
        "\n",
        "In [ ]:\n",
        "\n",
        "names = np.array(['Bob', 'Joe', 'Will', 'Bob', 'Will', 'Joe', 'Joe']) data = np.random.randn(7, 4)\n",
        "Find all the values from array data where the values from array names are not equal to Will\n",
        "\n",
        "In [ ]:\n",
        "\n",
        "names = np.array(['Bob', 'Joe', 'Will', 'Bob', 'Will', 'Joe', 'Joe']) data = np.random.randn(7, 4)\n",
        "Find all the values from array data where the values from array names are not equal to Will and Joe\n",
        "\n",
        "In [ ]:\n",
        "\n",
        "Difficulty Level Hard\n",
        "\n",
        "Create a 2D array of shape 5x3 to contain decimal numbers between 1 and 15.\n",
        "In [ ]:\n",
        "Create an array of shape (2, 2, 4) with decimal numbers between 1 to 16.\n",
        "In [ ]:\n",
        "\n",
        "Swap axes of the array you created in Question 32\n",
        "In [ ]:\n",
        "\n",
        "Create an array of size 10, and find the square root of every element in the array, if the values less than 0.5, replace them with 0\n",
        "In [ ]:\n",
        "\n",
        "Create two random arrays of range 12 and make an array with the maximum values between each element of the two arrays\n",
        "In [ ]:\n",
        "\n",
        "names = np.array(['Bob', 'Joe', 'Will', 'Bob', 'Will', 'Joe', 'Joe'])\n",
        "Find the unique names and sort them out!\n",
        "\n",
        "In [ ]:\n",
        "\n",
        "a = np.array([1,2,3,4,5]) b = np.array([5,6,7,8,9])\n",
        "From array a remove all items present in array b\n",
        "Following is the input NumPy array delete column two and insert following new column in its place.\n",
        "sampleArray = numpy.array([[34,43,73],[82,22,12],[53,94,66]])\n",
        "\n",
        "newColumn = numpy.array([[10,10,10]])\n",
        "\n",
        "In [ ]:\n",
        "\n",
        "x = np.array([[1., 2., 3.], [4., 5., 6.]]) y = np.array([[6., 23.], [-1, 7], [8, 9]])\n",
        "Find the dot product of the above two matrix\n",
        "\n",
        "In [ ]:\n",
        "\n",
        "Generate a matrix of 20 random values and find its cumulative sum"
      ],
      "execution_count": null,
      "outputs": []
    },
    {
      "cell_type": "markdown",
      "metadata": {
        "id": "YuR6N5RYXrF8"
      },
      "source": [
        "Create a three dimensional array"
      ]
    },
    {
      "cell_type": "code",
      "metadata": {
        "colab": {
          "base_uri": "https://localhost:8080/"
        },
        "id": "atTO5N2TYC2H",
        "outputId": "1a6f9ca7-08ac-440a-fede-6bf4a952bfe1"
      },
      "source": [
        "D3 = np.zeros((3,3,4))\n",
        "print(D3)\n",
        "print(D3.shape)"
      ],
      "execution_count": 15,
      "outputs": [
        {
          "output_type": "stream",
          "name": "stdout",
          "text": [
            "[[[0. 0. 0. 0.]\n",
            "  [0. 0. 0. 0.]\n",
            "  [0. 0. 0. 0.]]\n",
            "\n",
            " [[0. 0. 0. 0.]\n",
            "  [0. 0. 0. 0.]\n",
            "  [0. 0. 0. 0.]]\n",
            "\n",
            " [[0. 0. 0. 0.]\n",
            "  [0. 0. 0. 0.]\n",
            "  [0. 0. 0. 0.]]]\n",
            "(3, 3, 4)\n"
          ]
        }
      ]
    },
    {
      "cell_type": "markdown",
      "metadata": {
        "id": "mU-urcJPZD_X"
      },
      "source": [
        "Reverse a vector (first element becomes last)"
      ]
    },
    {
      "cell_type": "code",
      "metadata": {
        "id": "mss8trA9ZG6T",
        "outputId": "a0fc7bf5-4af7-4568-9d53-8799dd7906c9",
        "colab": {
          "base_uri": "https://localhost:8080/"
        }
      },
      "source": [
        "rev=np.array([1,2,3,4,5,6,7,8,9,10])\n",
        "print(\"Sort Array\",rev)\n",
        "rev=rev[::-1]\n",
        "print(\"Reverse Array\",rev)"
      ],
      "execution_count": 19,
      "outputs": [
        {
          "output_type": "stream",
          "name": "stdout",
          "text": [
            "Sort Array [ 1  2  3  4  5  6  7  8  9 10]\n",
            "Reverse Array [10  9  8  7  6  5  4  3  2  1]\n"
          ]
        }
      ]
    },
    {
      "cell_type": "markdown",
      "metadata": {
        "id": "g0TWCoEgX9oP"
      },
      "source": [
        ""
      ]
    }
  ]
}