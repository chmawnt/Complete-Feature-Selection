{
  "nbformat": 4,
  "nbformat_minor": 0,
  "metadata": {
    "colab": {
      "name": "Untitled6.ipynb",
      "provenance": [],
      "collapsed_sections": [],
      "authorship_tag": "ABX9TyMIkHSaFW76COtWYY+kpyge",
      "include_colab_link": true
    },
    "kernelspec": {
      "name": "python3",
      "display_name": "Python 3"
    },
    "language_info": {
      "name": "python"
    }
  },
  "cells": [
    {
      "cell_type": "markdown",
      "metadata": {
        "id": "view-in-github",
        "colab_type": "text"
      },
      "source": [
        "<a href=\"https://colab.research.google.com/github/chmawnt/Complete-Feature-Selection/blob/master/Text_processing_assignment.ipynb\" target=\"_parent\"><img src=\"https://colab.research.google.com/assets/colab-badge.svg\" alt=\"Open In Colab\"/></a>"
      ]
    },
    {
      "cell_type": "code",
      "metadata": {
        "colab": {
          "base_uri": "https://localhost:8080/"
        },
        "id": "60ZsM46Vj-HC",
        "outputId": "87752ddf-3dc1-4cae-8bff-5cfb697f7896"
      },
      "source": [
        "import numpy as np # linear algebra\n",
        "import pandas as pd # data processing, CSV file I/O (e.g. pd.read_csv)\n",
        "import matplotlib.pyplot as plt\n",
        "import seaborn as sns\n",
        "from tqdm.notebook import tqdm\n",
        "import tensorflow as tf\n",
        "print(tf.__version__)"
      ],
      "execution_count": 1,
      "outputs": [
        {
          "output_type": "stream",
          "name": "stdout",
          "text": [
            "2.6.0\n"
          ]
        }
      ]
    },
    {
      "cell_type": "code",
      "metadata": {
        "id": "OZdQ2pxuGtYN"
      },
      "source": [
        "import os\n",
        "for dirname, _, filenames in os.walk('/kaggle/input'):\n",
        "    for filename in filenames:\n",
        "        print(os.path.join(dirname, filename))\n",
        "\n",
        "# You can write up to 20GB to the current directory (/kaggle/working/) that gets preserved as output when you create a version using \"Save & Run All\" \n",
        "# You can also write temporary files to /kaggle/temp/, but they won't be saved outside of the current session"
      ],
      "execution_count": null,
      "outputs": []
    },
    {
      "cell_type": "code",
      "metadata": {
        "id": "3wxf7M_tHAto"
      },
      "source": [
        "train_df = pd.read_csv(\"/kaggle/input/nlp-getting-started/train.csv\")\n",
        "test_df =  pd.read_csv(\"/kaggle/input/nlp-getting-started/test.csv\")\n"
      ],
      "execution_count": null,
      "outputs": []
    },
    {
      "cell_type": "code",
      "metadata": {
        "id": "zYw16EweHFPK"
      },
      "source": [
        "print(len(train_df))\n",
        "train_df = train_df.drop_duplicates('text', keep='last')\n",
        "print(len(train_df))"
      ],
      "execution_count": null,
      "outputs": []
    },
    {
      "cell_type": "code",
      "metadata": {
        "id": "wCwTEqe4HLEK"
      },
      "source": [
        "sns.countplot(train_df['target'])"
      ],
      "execution_count": null,
      "outputs": []
    },
    {
      "cell_type": "code",
      "metadata": {
        "id": "BaX_FOMlHsWR"
      },
      "source": [
        "train_df['target'].value_counts()"
      ],
      "execution_count": null,
      "outputs": []
    },
    {
      "cell_type": "code",
      "metadata": {
        "id": "QjHZS-FJH2f0"
      },
      "source": [
        "plt.figure(figsize=(15,40))\n",
        "print(f'Unique keywords num={len(train_df.keyword.unique())}')\n",
        "print(f'Unique keywords num={len(test_df.keyword.unique())}')\n",
        "sns.countplot(y=train_df['keyword'], color=(0,0,1), label='Train')\n",
        "sns.countplot(y=test_df['keyword'], color=(1,0,0), label='Test')\n",
        "plt.legend()"
      ],
      "execution_count": null,
      "outputs": []
    },
    {
      "cell_type": "code",
      "metadata": {
        "id": "Ui3X5PtKH-o8"
      },
      "source": [
        "plt.figure(figsize=(15,100))\n",
        "sns.countplot(data=train_df, y='keyword', hue='target')"
      ],
      "execution_count": null,
      "outputs": []
    },
    {
      "cell_type": "code",
      "metadata": {
        "id": "fIhys0SoIEcx"
      },
      "source": [
        "import re\n",
        "\n",
        "def preprocess_text(text):\n",
        "    text = re.sub(r\"http\\S+\", \"\", text)\n",
        "    return text"
      ],
      "execution_count": null,
      "outputs": []
    },
    {
      "cell_type": "code",
      "metadata": {
        "id": "xksamDiPIWA4"
      },
      "source": [
        "train_df['text'] = train_df['text'].apply(preprocess_text)\n",
        "test_df ['text'] = test_df['text'].apply(preprocess_text)"
      ],
      "execution_count": null,
      "outputs": []
    },
    {
      "cell_type": "code",
      "metadata": {
        "id": "bN4Od4t1Ifce"
      },
      "source": [
        "import tensorflow as tf\n",
        "import tensorflow_hub as hub\n",
        "import tensorflow_text as text\n",
        "from official.nlp import optimization"
      ],
      "execution_count": null,
      "outputs": []
    },
    {
      "cell_type": "code",
      "metadata": {
        "id": "1kEUn51cInSF"
      },
      "source": [
        "from sklearn.model_selection import train_test_split\n",
        "X_train, X_valid, y_train, y_valid = train_test_split(train_df['text'].tolist(),\\\n",
        "                                                      train_df['target'].tolist(),\\\n",
        "                                                      test_size=0.01,\\\n",
        "                                                      stratify = train_df['target'].tolist(),\\\n",
        "                                                      random_state=0)\n"
      ],
      "execution_count": null,
      "outputs": []
    },
    {
      "cell_type": "code",
      "metadata": {
        "id": "-f36JlukIrxD"
      },
      "source": [
        "batch_size = 32\n",
        "seed = 42\n",
        "train_ds = tf.data.Dataset.from_tensor_slices((X_train,y_train)).batch(batch_size)\n",
        "valid_ds = tf.data.Dataset.from_tensor_slices((X_valid,y_valid)).batch(batch_size)\n",
        "#print(train_ds)"
      ],
      "execution_count": null,
      "outputs": []
    },
    {
      "cell_type": "code",
      "metadata": {
        "id": "Cby5r7XwI2IB"
      },
      "source": [
        "def build_classifier_model():\n",
        "    text_input = tf.keras.layers.Input(shape=(), dtype=tf.string, name='text')\n",
        "    preprocessing_layer = hub.KerasLayer(tfhub_handle_preprocess, name='preprocessing')\n",
        "    encoder_inputs = preprocessing_layer(text_input)\n",
        "    encoder = hub.KerasLayer(tfhub_handle_encoder, trainable=True, name='BERT_encoder')\n",
        "    outputs = encoder(encoder_inputs)\n",
        "    net = outputs['pooled_output']\n",
        "    net = tf.keras.layers.Dropout(0.1)(net)\n",
        "    net = tf.keras.layers.Dense(8,activation =\"relu\",name =\"hidden\")(net)\n",
        "    net = tf.keras.layers.Dense(1, activation= \"sigmoid\" , name='classifier')(net)\n",
        "    return tf.keras.Model(text_input, net)\n",
        "    \n",
        "    \n",
        "   classifier_model = build_classifier_model()\n",
        "\n",
        "tf.keras.utils.plot_model(classifier_model)\n",
        "for layer in classifier_model.layers[:-3]:\n",
        "      layer.trainable = False"
      ],
      "execution_count": null,
      "outputs": []
    },
    {
      "cell_type": "code",
      "metadata": {
        "id": "91gruiAEJyq2"
      },
      "source": [
        "classifier_model = build_classifier_model()\n",
        "\n",
        "tf.keras.utils.plot_model(classifier_model)\n",
        "for layer in classifier_model.layers[:-3]:\n",
        "      layer.trainable = False"
      ],
      "execution_count": null,
      "outputs": []
    },
    {
      "cell_type": "code",
      "metadata": {
        "id": "LxrBhMjJJ3WX"
      },
      "source": [
        "classifier_model = build_classifier_model()\n",
        "\n",
        "tf.keras.utils.plot_model(classifier_model)\n",
        "for layer in classifier_model.layers[:-3]:\n",
        "      layer.trainable = False"
      ],
      "execution_count": null,
      "outputs": []
    },
    {
      "cell_type": "code",
      "metadata": {
        "id": "U3CUX2P4J7X_"
      },
      "source": [
        "print(f'Training model with {tfhub_handle_encoder}')\n",
        "history = classifier_model.fit(x=train_ds, validation_data=valid_ds, epochs=epochs)"
      ],
      "execution_count": null,
      "outputs": []
    },
    {
      "cell_type": "code",
      "metadata": {
        "id": "1SMwT1fjJ-WZ"
      },
      "source": [
        "probs = classifier_model.predict(test_df[\"text\"]) \n",
        "threshold = 0.4\n",
        "preds = np.where(probs[:,] > threshold, 1, 0)"
      ],
      "execution_count": null,
      "outputs": []
    }
  ]
}