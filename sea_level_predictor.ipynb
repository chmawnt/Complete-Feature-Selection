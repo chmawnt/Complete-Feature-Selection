{
  "nbformat": 4,
  "nbformat_minor": 0,
  "metadata": {
    "colab": {
      "provenance": [],
      "authorship_tag": "ABX9TyOmp9HvIiBbnS3l8kJ94+Vv",
      "include_colab_link": true
    },
    "kernelspec": {
      "name": "python3",
      "display_name": "Python 3"
    },
    "language_info": {
      "name": "python"
    }
  },
  "cells": [
    {
      "cell_type": "markdown",
      "metadata": {
        "id": "view-in-github",
        "colab_type": "text"
      },
      "source": [
        "<a href=\"https://colab.research.google.com/github/chmawnt/Complete-Feature-Selection/blob/master/sea_level_predictor.ipynb\" target=\"_parent\"><img src=\"https://colab.research.google.com/assets/colab-badge.svg\" alt=\"Open In Colab\"/></a>"
      ]
    },
    {
      "cell_type": "code",
      "source": [
        "import pandas as pd\n",
        "import matplotlib.pyplot as plt\n",
        "from scipy.stats import linregress\n",
        "import numpy as np\n",
        "\n",
        "def draw_plot():\n",
        "    # Read data from file\n",
        "    df = pd.read_csv('epa-sea-level.csv')\n",
        "    y = df[\"CSIRO Adjusted Sea Level\"]\n",
        "    x = df[\"Year\"]\n",
        "    \n",
        " \n",
        "\n",
        "    # Create scatter plot\n",
        "    fig, ax = plt.subplots()\n",
        "    ax = plt.scatter(df['Year'], df['CSIRO Adjusted Sea Level'])\n",
        "\n",
        "\n",
        "    # Create first line of best fit\n",
        "    res = linregress(x,y)\n",
        "    x_pred = pd.Series([i for i in range(1880,2051)])\n",
        "    y_pred = res.slope*x_pred + res.intercept\n",
        "    plt.plot(x_pred,y_pred,'r')\n",
        "    # Create second line of best fit\n",
        "    new_df = df.loc[df['Year']>=2000]\n",
        "    new_x = new_df['Year']\n",
        "    new_y = new_df['CSIRO Adjusted Sea Level']\n",
        "    res_2 = linregress(new_x,new_y)\n",
        "    x_pred2 = pd.Series([i for i in range(2000,2051)])\n",
        "    y_pred2 = res_2.slope*x_pred2 + res_2.intercept\n",
        "    plt.plot(x_pred2,y_pred2,'green')\n",
        "    \n",
        "    # Add labels and title\n",
        "    plt.xlabel(\"Year\")\n",
        "    plt.ylabel('Sea Level (inches)')\n",
        "    plt.title('Rise in Sea Level')    \n",
        "    # Save plot and return data for testing (DO NOT MODIFY)\n",
        "    plt.savefig('sea_level_plot.png')\n",
        "    return plt.gca()"
      ],
      "metadata": {
        "id": "pC6iyw3v0S5X"
      },
      "execution_count": 14,
      "outputs": []
    },
    {
      "cell_type": "code",
      "source": [],
      "metadata": {
        "id": "n5J_yX964Ngu"
      },
      "execution_count": null,
      "outputs": []
    },
    {
      "cell_type": "code",
      "source": [],
      "metadata": {
        "id": "QDeGzHKD4NlF"
      },
      "execution_count": null,
      "outputs": []
    },
    {
      "cell_type": "code",
      "source": [
        "import pandas as pd\n",
        "import matplotlib.pyplot as plt\n",
        "from scipy.stats import linregress\n",
        "\n",
        "def draw_plot():\n",
        "    # Read data from file\n",
        "    df = pd.read_csv(\"epa-sea-level.csv\")\n",
        "\n",
        "    # Create scatter plot\n",
        "    fig, ax = plt.subplots(figsize=(16, 9))\n",
        "    plt.scatter(df[\"Year\"], df[\"CSIRO Adjusted Sea Level\"])\n",
        "\n",
        "    # Create first line of best fit\n",
        "    result = linregress(df[\"Year\"], df[\"CSIRO Adjusted Sea Level\"])\n",
        "    start_year = df[\"Year\"].min()\n",
        "    end_year = 2050\n",
        "    best_fit_data = {\n",
        "        \"Year\": [],\n",
        "        \"y_value\": []\n",
        "    }\n",
        "    for year in range(start_year, end_year):\n",
        "        best_fit_data[\"Year\"] = [year for year in range(start_year, end_year)]\n",
        "        best_fit_data[\"y_value\"] = [result.slope * year + result.intercept for year in range(start_year, end_year)]\n",
        "    \n",
        "    plt.plot(best_fit_data[\"Year\"], best_fit_data[\"y_value\"], 'r')\n",
        "\n",
        "    # Create second line of best fit\n",
        "    start_year = 2000\n",
        "    end_year = 2050\n",
        "    result = linregress(df.loc[df[\"Year\"] >= start_year][\"Year\"], df.loc[df[\"Year\"] >= start_year][\"CSIRO Adjusted Sea Level\"])\n",
        "    for year in range(start_year, end_year):\n",
        "        best_fit_data[\"Year\"] = [year for year in range(start_year, end_year)]\n",
        "        best_fit_data[\"y_value\"] = [result.slope * year + result.intercept for year in range(start_year, end_year)]\n",
        "    \n",
        "    plt.plot(best_fit_data[\"Year\"], best_fit_data[\"y_value\"], 'g')\n",
        "    \n",
        "\n",
        "    # Add labels and title\n",
        "    ax.set_title(\"Rise in Sea Level\")\n",
        "    ax.set_xlabel(\"Year\")\n",
        "    ax.set_ylabel(\"Sea Level (inches)\")\n",
        "    \n",
        "    # Save plot and return data for testing (DO NOT MODIFY)\n",
        "    plt.savefig('sea_level_plot.png')\n",
        "    return plt.gca()"
      ],
      "metadata": {
        "id": "At-5DfY1zvnj"
      },
      "execution_count": 8,
      "outputs": []
    },
    {
      "cell_type": "code",
      "source": [],
      "metadata": {
        "id": "Mo_BByE01Em2"
      },
      "execution_count": null,
      "outputs": []
    }
  ]
}